{
 "cells": [
  {
   "cell_type": "markdown",
   "id": "1971db0e",
   "metadata": {},
   "source": [
    "### Q1\n",
    "List the basic data types in python and give one example each."
   ]
  },
  {
   "cell_type": "code",
   "execution_count": null,
   "id": "6c25a697",
   "metadata": {},
   "outputs": [],
   "source": [
    "integer = 6\n",
    "float = 3.56\n",
    "string = \"Ama\"\n",
    "boolean = True"
   ]
  },
  {
   "cell_type": "markdown",
   "id": "4a2be5ba",
   "metadata": {},
   "source": [
    "### Q2\n",
    "Change the variable x = 4539.85 to :\n",
    "\n",
    "(i) a string and assign it to a new variable y,\n",
    "\n",
    "(ii) an integer and assign it to a new variable z\n",
    "\n",
    "Print out the type of y and z."
   ]
  },
  {
   "cell_type": "code",
   "execution_count": 4,
   "id": "4f69aaca",
   "metadata": {},
   "outputs": [
    {
     "name": "stdout",
     "output_type": "stream",
     "text": [
      "<class 'str'>\n",
      "<class 'int'>\n"
     ]
    }
   ],
   "source": [
    "x= 4539.85\n",
    "y = str(x)\n",
    "z = int(x)\n",
    "\n",
    "print(type(y))\n",
    "print(type(z))"
   ]
  },
  {
   "cell_type": "markdown",
   "id": "81a1251c",
   "metadata": {},
   "source": [
    "### Q3\n",
    "\n",
    "What data type would you use to store\n",
    "\n",
    "a. The price of car?\n",
    "- float\n",
    "\n",
    "b. The age of a person\n",
    "- integer\n",
    "\n",
    "c. car plate number: plateNumber = \"AV01-AFP\"?\n",
    "- string\n",
    "\n",
    "d. The price of fuel\n",
    "- float\n",
    "\n",
    "e. The number of students in the class\n",
    "- integer\n",
    "\n",
    "f. The weight of a person\n",
    "- float\n",
    "\n",
    "g. Check whether two figures are equal\n",
    "- boolean\n",
    "\n",
    "i. The name of a  school\n",
    "- string\n",
    "\n",
    "j. The average result of the overall score of a student\n",
    "- float\n",
    "\n",
    "k. The total number of vote cast\n",
    "- integer\n",
    "\n"
   ]
  },
  {
   "cell_type": "markdown",
   "id": "f0694362",
   "metadata": {},
   "source": [
    "### Q4\n",
    "**Thomas Partey is arguably the best player in the Black Stars. He is a great addition to the team**\n",
    "\n",
    "Split the statement above into **two statement_1** and **statement_2** such that statement_1 will be 'Thomas Partey is arguably the best player in the Black Stars' and statement_2 will be 'He is a great addition to the team'\n",
    "\n",
    "Statement:\n",
    "\n",
    "- **What is the length of statment 1?**\n",
    "-**What is the length of statment 2?**\n",
    "-**Is the length of statement 1 greater than statement 2**"
   ]
  },
  {
   "cell_type": "code",
   "execution_count": 12,
   "id": "398aaa99-e6ae-44c9-8fc0-61c24839e084",
   "metadata": {},
   "outputs": [
    {
     "name": "stdout",
     "output_type": "stream",
     "text": [
      "60\n",
      "34\n",
      "True\n"
     ]
    }
   ],
   "source": [
    "statement_1 = \"Thomas Partey is arguably the best player in the Black Stars\"\n",
    "statement_2 = \"He is a great addition to the team\"\n",
    "\n",
    "statement_1_len = len(statement_1)\n",
    "statement_2_len = len(statement_2)\n",
    "\n",
    "print(statement_1_len)\n",
    "print(statement_2_len)\n",
    "\n",
    "# checking the lengths of statement 1 and statement 2\n",
    "print(statement_1_len > statement_2_len)\n"
   ]
  },
  {
   "cell_type": "markdown",
   "id": "ceb46447",
   "metadata": {},
   "source": [
    "### Q5\n",
    "What values does python use to represent **True** and **False** respectively?\n",
    "\n",
    "True = 1  \n",
    "False = 0"
   ]
  },
  {
   "cell_type": "markdown",
   "id": "e4cc9b15",
   "metadata": {},
   "source": [
    "### Q6\n",
    "Write a code to evaluate if the following statments are True or False.\n",
    "\n",
    "1. 78 is greater than 46 and less than 30 which is an odd number.\n",
    "\n",
    "2. 8-2 is an even number or 8 is a is an odd number.\n",
    "\n",
    "3. The number of characters in the word 'boostrap' is 7 and that of 'sample' is 6."
   ]
  },
  {
   "cell_type": "code",
   "execution_count": 13,
   "id": "3a946306-5ec2-4a41-8134-6da0ec6db00f",
   "metadata": {},
   "outputs": [
    {
     "data": {
      "text/plain": [
       "False"
      ]
     },
     "execution_count": 13,
     "metadata": {},
     "output_type": "execute_result"
    }
   ],
   "source": [
    "a = 78\n",
    "b = 46\n",
    "c = 30\n",
    "\n",
    "(a>b) and (a<c) and (c%2 != 0)"
   ]
  },
  {
   "cell_type": "markdown",
   "id": "bc13f9fc",
   "metadata": {},
   "source": [
    "### Q7\n",
    "Given the following python code,\n",
    "\n",
    "`word='Hello, How are you?'`\n",
    "\n",
    "Write Python code to return the following\n",
    "\n",
    "- How\n",
    "- How are you\n",
    "- are\n",
    "- ?\n",
    "- Hello, How are you\n",
    "\n",
    "\n",
    " "
   ]
  },
  {
   "cell_type": "code",
   "execution_count": 38,
   "id": "cf5ba4b9-02d2-41b0-aaeb-4a878e10a171",
   "metadata": {},
   "outputs": [
    {
     "name": "stdout",
     "output_type": "stream",
     "text": [
      "How\n",
      "How are you\n",
      "are \n",
      "?\n",
      "Hello, How are you\n"
     ]
    }
   ],
   "source": [
    "word='Hello, How are you?'\n",
    "\n",
    "# returning \"How\" from the sentence\n",
    "substring_how = word[7:10]\n",
    "print(substring_how)\n",
    "\n",
    "# returning \"How are you\" from the sentence\n",
    "substring_how_are_you = word[7:18]\n",
    "print(substring_how_are_you)\n",
    "\n",
    "# returning \"are\" from the sentence\n",
    "substring_are = word[11:15]\n",
    "print(substring_are)\n",
    "\n",
    "# returning \"are\" from the sentence\n",
    "substring_question_mark = word[-1]\n",
    "print(substring_question_mark)\n",
    "\n",
    "\n",
    "# returning \"Hello, How are you\" from the sentence\n",
    "substring_greet = word[0:18]\n",
    "print(substring_greet)\n"
   ]
  },
  {
   "cell_type": "markdown",
   "id": "e4167de5",
   "metadata": {},
   "source": [
    "### Q8\n",
    "Given the following python code,\n",
    "\n",
    "`sentence = \"I am very excited\"`\n",
    "\n",
    "Write Python code to return \n",
    "- Convert sentence to upper case\n",
    "- Convert sentence to lower case\n",
    "- Convert sentence to title case\n",
    "- Convert sentence to list of strings\n",
    " "
   ]
  },
  {
   "cell_type": "code",
   "execution_count": 48,
   "id": "a2fc80f3-20a6-44be-ad9c-b3ab7c73dc88",
   "metadata": {},
   "outputs": [
    {
     "name": "stdout",
     "output_type": "stream",
     "text": [
      "I AM VERY EXCITED\n",
      "i am very excited\n",
      "I Am Very Excited\n",
      "['I', ' ', 'a', 'm', ' ', 'v', 'e', 'r', 'y', ' ', 'e', 'x', 'c', 'i', 't', 'e', 'd']\n"
     ]
    }
   ],
   "source": [
    "sentence = \"I am very excited\"\n",
    "\n",
    "sentence_upper = sentence.upper()\n",
    "print(sentence_upper)\n",
    "\n",
    "sentence_lower = sentence.lower()\n",
    "print(sentence_lower)\n",
    "\n",
    "sentence_title_case = sentence.title()\n",
    "print(sentence_title_case)\n",
    "\n",
    "sentence_list = list(sentence)\n",
    "print(sentence_list)\n"
   ]
  },
  {
   "cell_type": "markdown",
   "id": "4faf0134",
   "metadata": {},
   "source": [
    "### Q9\n",
    "`word = 'OneThirtyEight'`\n",
    "\n",
    "Using Python code extract the following from the variable word:\n",
    "- One\n",
    "- Thirty\n",
    "- Eight\n",
    "- OneThirty\n",
    "- ThirtyEight\n",
    "- ONETHIRTYEIGHT"
   ]
  },
  {
   "cell_type": "code",
   "execution_count": 57,
   "id": "c57a7dfb-7926-404f-9699-95d85394a9c0",
   "metadata": {},
   "outputs": [
    {
     "name": "stdout",
     "output_type": "stream",
     "text": [
      "One\n",
      "Thirty\n",
      "Eight\n",
      "OneThirty\n",
      "ThirtyEight\n",
      "ONETHIRTYEIGHT\n"
     ]
    }
   ],
   "source": [
    "word = 'OneThirtyEight'\n",
    "\n",
    "substring_one = word[0:3]\n",
    "print(substring_one)\n",
    "\n",
    "substring_thirty = word[3:9]\n",
    "print(substring_thirty)\n",
    "\n",
    "substring_eight = word[9:14]\n",
    "print(substring_eight)\n",
    "\n",
    "substring_one_thirty = word[0:9]\n",
    "print(substring_one_thirty)\n",
    "\n",
    "substring_thirty_eight = word[3:14]\n",
    "print(substring_thirty_eight)\n",
    "\n",
    "substring_one_thirty_eight = word[0:].upper()\n",
    "print(substring_one_thirty_eight)"
   ]
  },
  {
   "cell_type": "markdown",
   "id": "2a4eea1f",
   "metadata": {},
   "source": [
    "### Q10\n",
    "Turn Ault'Kelly into a string and assign it to a variable  called name."
   ]
  },
  {
   "cell_type": "code",
   "execution_count": 58,
   "id": "aa2f0a08",
   "metadata": {},
   "outputs": [
    {
     "name": "stdout",
     "output_type": "stream",
     "text": [
      "Ault'Kelly\n"
     ]
    }
   ],
   "source": [
    "name = \"Ault'Kelly\"\n",
    "print(name)"
   ]
  }
 ],
 "metadata": {
  "kernelspec": {
   "display_name": "Python 3 (ipykernel)",
   "language": "python",
   "name": "python3"
  },
  "language_info": {
   "codemirror_mode": {
    "name": "ipython",
    "version": 3
   },
   "file_extension": ".py",
   "mimetype": "text/x-python",
   "name": "python",
   "nbconvert_exporter": "python",
   "pygments_lexer": "ipython3",
   "version": "3.11.7"
  }
 },
 "nbformat": 4,
 "nbformat_minor": 5
}
