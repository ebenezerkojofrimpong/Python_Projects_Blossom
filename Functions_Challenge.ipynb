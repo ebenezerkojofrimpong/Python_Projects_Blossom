{
 "cells": [
  {
   "cell_type": "markdown",
   "id": "352dd2e3",
   "metadata": {},
   "source": [
    "### Q1\n",
    "\n",
    "Define a python function that calculate the perimeter of the rectangle\n",
    "\n",
    "Formular\n",
    "\n",
    "formular => 2 X length + 2 X Width"
   ]
  },
  {
   "cell_type": "code",
   "execution_count": 2,
   "id": "e4615b9d-2b13-45c6-8165-82ef7bc0171c",
   "metadata": {},
   "outputs": [
    {
     "name": "stdout",
     "output_type": "stream",
     "text": [
      "22\n"
     ]
    }
   ],
   "source": [
    "def perimeter(len,wid):\n",
    "    return (2*len)+ (2* wid)\n",
    "\n",
    "print(perimeter(9,2))"
   ]
  },
  {
   "cell_type": "markdown",
   "id": "a56ccec8",
   "metadata": {},
   "source": [
    "### Q2\n",
    "Define the function to calculate the area of a circle. Round the answer to 3 decimal places.\n",
    "\n",
    "**Preamble**\n",
    " - Take pi as 22/7\n",
    " - formular pi x r ** 2"
   ]
  },
  {
   "cell_type": "code",
   "execution_count": 6,
   "id": "0d6b83d3-9917-49d3-bca7-d0d8fbe10a52",
   "metadata": {},
   "outputs": [
    {
     "name": "stdout",
     "output_type": "stream",
     "text": [
      "78.571\n"
     ]
    }
   ],
   "source": [
    "pi = 22/7\n",
    "\n",
    "def calc_Area(radius):\n",
    "    area = pi * radius**2\n",
    "    return round(area,3)\n",
    "\n",
    "print(calc_Area(5))"
   ]
  },
  {
   "cell_type": "markdown",
   "id": "be5a6965",
   "metadata": {},
   "source": [
    "### Q3\n",
    "Define a function that takes a list of numbers and print out the **mean**, **median** and **mode**.\n",
    "\n",
    "- Test your function with the list b\n",
    "\n",
    "`b = [2,3,4,6,7,3,4,3,2,1,3]`"
   ]
  },
  {
   "cell_type": "code",
   "execution_count": 26,
   "id": "f9ae37a1-9841-400b-b82f-2a0d26f1510b",
   "metadata": {},
   "outputs": [
    {
     "name": "stdout",
     "output_type": "stream",
     "text": [
      "Mean: 3.4545454545454546\n",
      "Median: 3\n",
      "Mode: [3]\n"
     ]
    }
   ],
   "source": [
    "def calculate_statistics(numbers):\n",
    "    # Mean\n",
    "    mean = sum(numbers) / len(numbers)\n",
    "    print(\"Mean:\", mean)\n",
    "\n",
    "    # Median\n",
    "    sorted_numbers = sorted(numbers)\n",
    "    n = len(sorted_numbers)\n",
    "    if n % 2 == 0:\n",
    "        median_value = (sorted_numbers[n // 2 - 1] + sorted_numbers[n // 2]) / 2\n",
    "    else:\n",
    "        median_value = sorted_numbers[n // 2]\n",
    "    print(\"Median:\", median_value)\n",
    "\n",
    "    # Mode\n",
    "    mode_counts = {}\n",
    "    for num in numbers:\n",
    "        mode_counts[num] = mode_counts.get(num, 0) + 1\n",
    "    max_count = max(mode_counts.values())\n",
    "    mode = [k for k, v in mode_counts.items() if v == max_count]\n",
    "    print(\"Mode:\", mode)\n",
    "\n",
    "# Test the function\n",
    "b = [2, 3, 4, 6, 7, 3, 4, 3, 2, 1, 3]\n",
    "calculate_statistics(b)"
   ]
  },
  {
   "cell_type": "markdown",
   "id": "3313ab10",
   "metadata": {},
   "source": [
    "### Q4\n",
    "Define a function that prints out the list of the first 20 prime numbers"
   ]
  },
  {
   "cell_type": "code",
   "execution_count": 34,
   "id": "3416e4ee-d214-4656-aff3-938466e382ee",
   "metadata": {},
   "outputs": [
    {
     "name": "stdout",
     "output_type": "stream",
     "text": [
      "2\n",
      "3\n",
      "5\n",
      "7\n",
      "11\n",
      "13\n",
      "17\n",
      "19\n",
      "23\n",
      "29\n",
      "31\n",
      "37\n",
      "41\n",
      "43\n",
      "47\n",
      "53\n",
      "59\n",
      "61\n",
      "67\n",
      "71\n"
     ]
    }
   ],
   "source": [
    "def is_prime(num):\n",
    "    if num < 2:\n",
    "        return False\n",
    "    for i in range(2, int(num**0.5) + 1):\n",
    "        if num % i == 0:\n",
    "            return False\n",
    "    return True\n",
    "\n",
    "def first_20_primes():\n",
    "    count = 0\n",
    "    num = 2\n",
    "    while count < 20:\n",
    "        if is_prime(num):\n",
    "            print(num)\n",
    "            count += 1\n",
    "        num += 1\n",
    "\n",
    "first_20_primes()"
   ]
  },
  {
   "cell_type": "markdown",
   "id": "ef1c5863",
   "metadata": {},
   "source": [
    "#### Q5\n",
    "Define a function that takes a list of strings and print out the string and the length of the string.\n",
    "\n",
    "**Example of expected output**\n",
    "\n",
    "{\"Kofi\":4,\n",
    "\"Ama\":3,\n",
    "\"Sedem\":5}"
   ]
  },
  {
   "cell_type": "code",
   "execution_count": 38,
   "id": "0127a7cc-e22f-481f-8a75-824964743919",
   "metadata": {},
   "outputs": [
    {
     "name": "stdout",
     "output_type": "stream",
     "text": [
      "{'Joycelyn': 8, 'Abigail': 7, 'Ebenezer': 8, 'Celestina': 9}\n"
     ]
    }
   ],
   "source": [
    "def print_strings_with_length(strings):\n",
    "     # Dictionary to store the strings and their lengths\n",
    "    string_lengths = {} \n",
    "\n",
    "    for string in strings:\n",
    "        # Store the string and its length in the dictionary\n",
    "        string_lengths[string] = len(string)  \n",
    "\n",
    "    print(string_lengths)  # Print out the dictionary containing strings and their lengths\n",
    "\n",
    "\n",
    "strings = [\"Joycelyn\", \"Abigail\", \"Ebenezer\",\"Celestina\"]\n",
    "print_strings_with_length(strings)"
   ]
  },
  {
   "cell_type": "markdown",
   "id": "5072c8d8",
   "metadata": {},
   "source": [
    "### Q6\n",
    "Define a function that takes a list of strings and numbers and print out only the strings and the position of the strings.\n",
    "\n",
    "**Preamble**\n",
    "\n",
    "names = ['sedem', 'Kofi', 'kobla']\n",
    "\n",
    "**Expected Output**\n",
    "\n",
    "{'sedem': P0, 'Kofi': P1, 'kobla': P2}"
   ]
  },
  {
   "cell_type": "code",
   "execution_count": 46,
   "id": "36bb3f37-145a-4a2a-904a-abdb92aace56",
   "metadata": {},
   "outputs": [
    {
     "name": "stdout",
     "output_type": "stream",
     "text": [
      "{'Ebenezer': 'P0', 'George': 'P1', 'Abigail': 'P2', 'Joycelyn': 'P3'}\n"
     ]
    }
   ],
   "source": [
    "def find_strings(data):\n",
    "\n",
    "  result = {}\n",
    "  for i, item in enumerate(data):\n",
    "    if isinstance(item, str):\n",
    "      result[item] = f\"P{i}\"\n",
    "  return result\n",
    "\n",
    "# Example usage\n",
    "names = ['Ebenezer', 'George', 'Abigail','Joycelyn']\n",
    "print(find_strings(names))"
   ]
  },
  {
   "cell_type": "markdown",
   "id": "5593b665",
   "metadata": {},
   "source": [
    "### Q7\n",
    "Define a function that returns whether the sum of a person age and person's date of birth equals 2023\n",
    "\n",
    "**Preamble**\n",
    "\n",
    "2001 + 22 => True\n",
    "\n",
    "2002 + 5 => False"
   ]
  },
  {
   "cell_type": "code",
   "execution_count": 51,
   "id": "580f6e63-d412-4c31-91f5-23132c958671",
   "metadata": {},
   "outputs": [
    {
     "name": "stdout",
     "output_type": "stream",
     "text": [
      "True\n",
      "False\n"
     ]
    }
   ],
   "source": [
    "def check_age_sum(age, dob):\n",
    "\n",
    "  return age + dob == 2023\n",
    "\n",
    "print(check_age_sum(22, 2001)) \n",
    "print(check_age_sum(5, 2002))"
   ]
  },
  {
   "cell_type": "markdown",
   "id": "f831e652",
   "metadata": {},
   "source": [
    "### Q8\n",
    "Define a function that determine whether a particular year is a **decade**, the output should be a boolean (True or False)\n"
   ]
  },
  {
   "cell_type": "code",
   "execution_count": 53,
   "id": "85902adc-899a-4321-a583-695e30a8f57f",
   "metadata": {},
   "outputs": [
    {
     "name": "stdout",
     "output_type": "stream",
     "text": [
      "True\n"
     ]
    }
   ],
   "source": [
    "def is_decade(year):\n",
    "\n",
    "  return year % 10 == 0\n",
    "\n",
    "print(is_decade(2020)) "
   ]
  },
  {
   "cell_type": "markdown",
   "id": "211c19e3",
   "metadata": {},
   "source": [
    "### Q9\n",
    "Define a function that contains a list of strings and punctuations,the output should on return the list of punctuations."
   ]
  },
  {
   "cell_type": "code",
   "execution_count": 57,
   "id": "170c6898-bc94-41a2-a4fd-671a8ef80b34",
   "metadata": {},
   "outputs": [
    {
     "name": "stdout",
     "output_type": "stream",
     "text": [
      "[',', '?']\n"
     ]
    }
   ],
   "source": [
    "def find_punctuations(data):\n",
    "    \n",
    "  punctuations = []\n",
    "    \n",
    "  for item in data:\n",
    "    if isinstance(item, str) and len(item) == 1 and not item.isalnum():\n",
    "      punctuations.append(item)\n",
    "  return punctuations\n",
    "\n",
    "data = [\"Hello\", \"Abigail\", \",\", \"Have\", \"You\", \"eaten\", \"?\"]\n",
    "print(find_punctuations(data))"
   ]
  },
  {
   "cell_type": "markdown",
   "id": "34bae9ec",
   "metadata": {},
   "source": [
    "### Q10\n",
    "\n",
    "Define a lambda function that print out the cubic root of a list of numbers"
   ]
  },
  {
   "cell_type": "code",
   "execution_count": 58,
   "id": "8604dc6d-c2a0-48d9-89a7-63550519ec22",
   "metadata": {},
   "outputs": [
    {
     "name": "stdout",
     "output_type": "stream",
     "text": [
      "[1.0, 2.0, 3.0, 3.9999999999999996]\n"
     ]
    }
   ],
   "source": [
    "cubic_root = lambda x: x ** (1/3)\n",
    "\n",
    "numbers = [1, 8, 27, 64]\n",
    "\n",
    "cubed_roots = list(map(cubic_root, numbers))\n",
    "\n",
    "print(cubed_roots)"
   ]
  },
  {
   "cell_type": "markdown",
   "id": "37974632",
   "metadata": {},
   "source": [
    "### Q11\n",
    "Define a lambda function that print out the cube of a list of numbers"
   ]
  },
  {
   "cell_type": "code",
   "execution_count": 59,
   "id": "be4677cb-b9fd-4a25-99ba-11b6390a0f89",
   "metadata": {},
   "outputs": [
    {
     "name": "stdout",
     "output_type": "stream",
     "text": [
      "[1, 512, 19683, 262144]\n"
     ]
    }
   ],
   "source": [
    "cubic_root = lambda x: x ** (3)\n",
    "\n",
    "numbers = [1, 8, 27, 64]\n",
    "\n",
    "cubed_roots = list(map(cubic_root, numbers))\n",
    "\n",
    "print(cubed_roots)"
   ]
  },
  {
   "cell_type": "markdown",
   "id": "b1522dbb",
   "metadata": {},
   "source": [
    "### Q12\n",
    "Define a function that take a list of list of numbers and return a list that contains the average of each sublist using map."
   ]
  },
  {
   "cell_type": "code",
   "execution_count": 60,
   "id": "ced73169-abcc-41de-a89f-ad31bfe299e8",
   "metadata": {},
   "outputs": [
    {
     "name": "stdout",
     "output_type": "stream",
     "text": [
      "[2.0, 4.5, 7.5]\n"
     ]
    }
   ],
   "source": [
    "def get_sublist_averages(data):\n",
    "\n",
    "  average = lambda sublist: sum(sublist) / len(sublist)\n",
    "\n",
    "  return list(map(average, data))\n",
    "\n",
    "data = [[1, 2, 3], [4, 5], [6, 7, 8, 9]]\n",
    "averages = get_sublist_averages(data)\n",
    "print(averages) "
   ]
  },
  {
   "cell_type": "markdown",
   "id": "0fd5cd06",
   "metadata": {},
   "source": [
    "### Q13\n",
    "Define a function that takes a list of strings and filter out strings that are upper case."
   ]
  },
  {
   "cell_type": "code",
   "execution_count": 63,
   "id": "2aa34dfa-fd80-4730-a65c-da25e68b2ec9",
   "metadata": {},
   "outputs": [
    {
     "name": "stdout",
     "output_type": "stream",
     "text": [
      "['red', 'blue', 'indigo']\n"
     ]
    }
   ],
   "source": [
    "\n",
    "def filter_lowercase(data):\n",
    "\n",
    "  is_lowercase = lambda item: not item.isupper()\n",
    "\n",
    "  return list(filter(is_lowercase, data))\n",
    "\n",
    "data = [\"WHITE\", \"red\", \"blue\", \"indigo\", \"PURPLE?\"]\n",
    "filtered_data = filter_lowercase(data)\n",
    "print(filtered_data)"
   ]
  },
  {
   "cell_type": "markdown",
   "id": "d0dddd17",
   "metadata": {},
   "source": [
    "### Q14\n",
    "Define a function that takes a list of numbers and print out the numbers which are prime in the list."
   ]
  },
  {
   "cell_type": "code",
   "execution_count": 64,
   "id": "4298c279-e5bf-44bf-b09c-a0ff3c6d0e88",
   "metadata": {},
   "outputs": [
    {
     "name": "stdout",
     "output_type": "stream",
     "text": [
      "2\n",
      "3\n",
      "5\n",
      "7\n",
      "11\n"
     ]
    }
   ],
   "source": [
    "def find_primes(data):\n",
    "  for num in data:\n",
    "    if is_prime(num):\n",
    "      print(num)\n",
    "\n",
    "def is_prime(num):\n",
    "  if num <= 1:\n",
    "    return False\n",
    "  for i in range(2, int(num**0.5) + 1):\n",
    "    if num % i == 0:\n",
    "      return False\n",
    "  return True\n",
    "\n",
    "data = [1, 2, 3, 4, 5, 6, 7, 8, 9, 11]\n",
    "find_primes(data)\n"
   ]
  },
  {
   "cell_type": "markdown",
   "id": "240741dc",
   "metadata": {},
   "source": [
    "### Q15\n",
    "Define a function that take a list of strings and return a zip of each string and length of a string."
   ]
  },
  {
   "cell_type": "code",
   "execution_count": 65,
   "id": "0eb56aa8-61fe-4b30-9285-3db66599180e",
   "metadata": {},
   "outputs": [
    {
     "name": "stdout",
     "output_type": "stream",
     "text": [
      "[('brown', 5), ('gray', 4), ('yellow', 6), ('rebeccapurple', 13), ('green', 5)]\n"
     ]
    }
   ],
   "source": [
    "def zip_string_length(data):\n",
    "\n",
    "  return zip(data, [len(item) for item in data])\n",
    "\n",
    "data = [\"brown\", \"gray\", \"yellow\", \"rebeccapurple\", \"green\"]\n",
    "string_length_pairs = zip_string_length(data)\n",
    "print(list(string_length_pairs))  \n"
   ]
  },
  {
   "cell_type": "markdown",
   "id": "44a1339f",
   "metadata": {},
   "source": [
    "### Q16\n",
    "Define a function that takes in a number and return the first 12 multiples of the the number.\n",
    "\n",
    "Expected Output\n",
    "\n",
    "2 X 1 = 2\n",
    "\n",
    "to\n",
    "\n",
    "2 X 12 = 24"
   ]
  },
  {
   "cell_type": "code",
   "execution_count": 67,
   "id": "6c5e218b-cdf8-4c30-9089-f4addf35c8c2",
   "metadata": {},
   "outputs": [
    {
     "name": "stdout",
     "output_type": "stream",
     "text": [
      "2 X 1 = 2\n",
      "2 X 2 = 4\n",
      "2 X 3 = 6\n",
      "2 X 4 = 8\n",
      "2 X 5 = 10\n",
      "2 X 6 = 12\n",
      "2 X 7 = 14\n",
      "2 X 8 = 16\n",
      "2 X 9 = 18\n",
      "2 X 10 = 20\n",
      "2 X 11 = 22\n",
      "2 X 12 = 24\n"
     ]
    }
   ],
   "source": [
    "def print_multiples(n):\n",
    "    for i in range(1, 13):\n",
    "        print(f\"{n} X {i} = {n * i}\")\n",
    "\n",
    "number = 2\n",
    "print_multiples(number)"
   ]
  },
  {
   "cell_type": "markdown",
   "id": "cd63dd99",
   "metadata": {},
   "source": [
    "### Q17\n",
    "Write a Python function to find the maximum of three numbers.\n",
    "\n",
    "**Do not use the max function**"
   ]
  },
  {
   "cell_type": "code",
   "execution_count": 68,
   "id": "ca36b839-5d45-4758-95ae-46464ce5915a",
   "metadata": {},
   "outputs": [
    {
     "name": "stdout",
     "output_type": "stream",
     "text": [
      "The maximum of 10, 5, and 15 is: 15\n"
     ]
    }
   ],
   "source": [
    "def find_max(a, b, c):\n",
    "  if a >= b:\n",
    "    largest = a\n",
    "  else:\n",
    "    largest = b\n",
    "\n",
    "  if largest >= c:\n",
    "    return largest\n",
    "  else:\n",
    "    return c\n",
    "\n",
    "num1 = 10\n",
    "num2 = 5\n",
    "num3 = 15\n",
    "maximum = find_max(num1, num2, num3)\n",
    "print(f\"The maximum of {num1}, {num2}, and {num3} is: {maximum}\")\n"
   ]
  },
  {
   "cell_type": "markdown",
   "id": "67520c0b",
   "metadata": {},
   "source": [
    "### Q18\n",
    "Write a Python function to multiply all the numbers in a list."
   ]
  },
  {
   "cell_type": "code",
   "execution_count": 69,
   "id": "e051e5a0-a854-4fe8-bbf5-0e133093aa00",
   "metadata": {},
   "outputs": [
    {
     "name": "stdout",
     "output_type": "stream",
     "text": [
      "The product of all numbers in the list is: 120\n"
     ]
    }
   ],
   "source": [
    "def multiply_list(numbers):\n",
    "\n",
    "  product = 1\n",
    "  for num in numbers:\n",
    "    product *= num\n",
    "  return product\n",
    "\n",
    "# Example usage\n",
    "data = [2, 3, 4, 5]\n",
    "result = multiply_list(data)\n",
    "print(f\"The product of all numbers in the list is: {result}\")\n"
   ]
  },
  {
   "cell_type": "markdown",
   "id": "05891582",
   "metadata": {},
   "source": [
    "### Q19\n",
    "Write a Python program to reverse a string"
   ]
  },
  {
   "cell_type": "code",
   "execution_count": 70,
   "id": "312cc8d9-d107-4277-9392-3412121bbd68",
   "metadata": {},
   "outputs": [
    {
     "name": "stdout",
     "output_type": "stream",
     "text": [
      "tsylanA ataD\n"
     ]
    }
   ],
   "source": [
    "def reverse_string(text):\n",
    "\n",
    "  return text[::-1]\n",
    "\n",
    "text = \"Data Analyst\"\n",
    "reversed_text = reverse_string(text)\n",
    "print(reversed_text)"
   ]
  },
  {
   "cell_type": "markdown",
   "id": "b9025ac8",
   "metadata": {},
   "source": [
    "### Q20\n",
    "Write a python function to return the length of a string."
   ]
  },
  {
   "cell_type": "markdown",
   "id": "8d1ee176",
   "metadata": {},
   "source": [
    "Have a lovely coding weekend"
   ]
  },
  {
   "cell_type": "code",
   "execution_count": 73,
   "id": "560753d1-6f25-45c6-b294-d722fef21c50",
   "metadata": {},
   "outputs": [
    {
     "name": "stdout",
     "output_type": "stream",
     "text": [
      "28\n"
     ]
    }
   ],
   "source": [
    "def stmt_len(stmt):\n",
    "    return len(stmt)\n",
    "    \n",
    "statement = \"Have a lovely coding weekend\"\n",
    "print(stmt_len(statement))"
   ]
  },
  {
   "cell_type": "markdown",
   "id": "2a4a18ee-823c-4285-81c8-89068545469d",
   "metadata": {},
   "source": [
    "### Q21\n",
    "Write a python function to remind an administrator every two weeks for airtime disbursal."
   ]
  },
  {
   "cell_type": "code",
   "execution_count": 5,
   "id": "4fdb578b-135e-4b2d-baf5-466ecc3f207d",
   "metadata": {},
   "outputs": [
    {
     "name": "stdout",
     "output_type": "stream",
     "text": [
      "Sending reminder: Time to disburse airtime (as of 2024-05-21 14:18:47.207699).\n"
     ]
    }
   ],
   "source": [
    "import datetime\n",
    "\n",
    "def remind_airtime_disbursal(days=14):\n",
    "\n",
    "  print(f\"Sending reminder: Time to disburse airtime (as of {datetime.datetime.now()}).\")\n",
    "\n",
    "\n",
    "  next_reminder = datetime.datetime.now() + datetime.timedelta(days=days)\n",
    "\n",
    "remind_airtime_disbursal()\n"
   ]
  }
 ],
 "metadata": {
  "kernelspec": {
   "display_name": "Python 3 (ipykernel)",
   "language": "python",
   "name": "python3"
  },
  "language_info": {
   "codemirror_mode": {
    "name": "ipython",
    "version": 3
   },
   "file_extension": ".py",
   "mimetype": "text/x-python",
   "name": "python",
   "nbconvert_exporter": "python",
   "pygments_lexer": "ipython3",
   "version": "3.11.7"
  }
 },
 "nbformat": 4,
 "nbformat_minor": 5
}
