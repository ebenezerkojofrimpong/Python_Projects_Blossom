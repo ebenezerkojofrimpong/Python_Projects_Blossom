{
 "cells": [
  {
   "cell_type": "markdown",
   "id": "c981861e",
   "metadata": {},
   "source": [
    "# Q1\n",
    "Write a code to display a list of the first 12 multiples of 8 using a for loop\n"
   ]
  },
  {
   "cell_type": "code",
   "execution_count": null,
   "id": "c627b2ee-6e18-4637-8368-b4ed81cb23aa",
   "metadata": {},
   "outputs": [],
   "source": [
    "multiples_8 = []\n",
    "for i in range(1, 13):\n",
    "    multiples_8.append(8 * i)\n",
    "print(multiples_8)"
   ]
  },
  {
   "cell_type": "markdown",
   "id": "d9f7d0f9",
   "metadata": {},
   "source": [
    "# Q2\n",
    "Write the code to print sum of all even numbers from 1 to 201"
   ]
  },
  {
   "cell_type": "code",
   "execution_count": null,
   "id": "f0d3b700-4da5-49e7-9c21-11a8ddb9e92e",
   "metadata": {},
   "outputs": [],
   "source": [
    " sum = 0\n",
    "for i in range (1,202):\n",
    "    if i%2 == 0:\n",
    "        sum = sum+i\n",
    "print(sum)\n",
    "       "
   ]
  },
  {
   "cell_type": "markdown",
   "id": "4f0f12d7",
   "metadata": {},
   "source": [
    "# Q3\n",
    "`my_list = [3, 5, 7, 12, 41]`\n",
    "\n",
    "Write the code to display the list of the squares of each number in my list\n",
    "\n",
    "- Without using list comprehension\n",
    "- Using list comprehension\n"
   ]
  },
  {
   "cell_type": "code",
   "execution_count": null,
   "id": "fae65cc1-de57-48fb-9f8e-bab7ca79ffed",
   "metadata": {},
   "outputs": [],
   "source": [
    "\n",
    "# without list comprehension\n",
    "my_list = [3, 5, 7, 12, 41]\n",
    "for n in my_list:\n",
    "    squares = n ** 2\n",
    "    print(squares)\n",
    "\n",
    "\n",
    "# with list comprehension\n",
    "my_list = [3, 5, 7, 12, 41]\n",
    "squares = [n ** 2 for n in my_list]\n",
    "print(squares)"
   ]
  },
  {
   "cell_type": "markdown",
   "id": "28bed149",
   "metadata": {},
   "source": [
    "# Q4\n",
    "`my_list1 = [3, 53,47, 22, 53, 78, 12, 41]`\n",
    "\n",
    "Calculate the average of my_list1\n",
    "\n",
    "- Without using sum and len fucnctions\n",
    "- Using sum and len functions\n"
   ]
  },
  {
   "cell_type": "code",
   "execution_count": null,
   "id": "eb668f2f-97db-4784-87a0-98247c3dc284",
   "metadata": {},
   "outputs": [],
   "source": [
    "my_list1 = [3, 53,47, 22, 53, 78, 12, 41]\n",
    "\n",
    "#without using the sum and len function\n",
    "total_sum = 0\n",
    "for n in my_list1:\n",
    "    total_sum += n\n",
    "\n",
    "total_count = 0\n",
    "for n in my_list1:\n",
    "    total_count += 1\n",
    "\n",
    "avg_my_list1 = total_sum / total_count\n",
    "\n",
    "print(avg_my_list1)\n",
    "\n",
    "\n"
   ]
  },
  {
   "cell_type": "code",
   "execution_count": null,
   "id": "4183cdb3-7962-4003-8bce-df977a71e867",
   "metadata": {},
   "outputs": [],
   "source": [
    "my_list1 = [3, 53, 47, 22, 53, 78, 12, 41]\n",
    "\n",
    "total_sum = sum(my_list1)\n",
    "total_count = len(my_list1)\n",
    "\n",
    "average_my_list1 = total_sum / total_count\n",
    "\n",
    "print(average_my_list1)"
   ]
  },
  {
   "cell_type": "markdown",
   "id": "38c1ddff",
   "metadata": {},
   "source": [
    "# Q4\n",
    "\n",
    "Write a Python program to guess a number between 1 and 9.\n",
    "User is prompted to enter a guess. If the user guesses wrong then the prompt appears again until the guess is correct, on successful guess, user will get a \"Well guessed!\" message, and the program will exit."
   ]
  },
  {
   "cell_type": "code",
   "execution_count": 1,
   "id": "6c0d4bd9-32cc-4eca-8bc1-c605550e2541",
   "metadata": {},
   "outputs": [
    {
     "name": "stdin",
     "output_type": "stream",
     "text": [
      "Guess a number between 1 and 9:  2\n"
     ]
    },
    {
     "name": "stdout",
     "output_type": "stream",
     "text": [
      "Well guessed!\n"
     ]
    }
   ],
   "source": [
    "import random\n",
    "\n",
    "secret_number = random.randint(1, 9)\n",
    "\n",
    "while True:\n",
    "    guess = int(input(\"Guess a number between 1 and 9: \"))\n",
    "\n",
    "    if guess < 1 or guess > 9:\n",
    "        print(\"Invalid guess! Please enter a number between 1 and 9.\")\n",
    "    elif guess < secret_number:\n",
    "        print(\"Too low, try again.\")\n",
    "    elif guess > secret_number:\n",
    "        print(\"Too high, try again.\")\n",
    "    else:\n",
    "        print(\"Well guessed!\")\n",
    "        break\n",
    "\n"
   ]
  },
  {
   "cell_type": "markdown",
   "id": "f5c02baa",
   "metadata": {},
   "source": [
    "# Q5\n",
    "Write a Python program to construct the following pattern.\n",
    "\n",
    "`*` \n",
    "\n",
    "`* *` \n",
    "\n",
    "`* * *` \n",
    "\n",
    "`* * * *` \n",
    "\n",
    "`* * * * *`"
   ]
  },
  {
   "cell_type": "code",
   "execution_count": null,
   "id": "7327d4d6-f343-436d-869a-38c8eb0cfacd",
   "metadata": {},
   "outputs": [],
   "source": [
    "rows = 5\n",
    "\n",
    "# Iterate through each row\n",
    "for i in range(rows):\n",
    "    # Print '*' i+1 times in each row\n",
    "    for j in range(i + 1):\n",
    "        print(\"*\", end=' ')\n",
    "    print(\"\\n\")\n"
   ]
  },
  {
   "cell_type": "markdown",
   "id": "e85d94df",
   "metadata": {},
   "source": [
    "# Q6\n",
    "\n",
    "Write a Python program that accepts a word from the user and reverses it."
   ]
  },
  {
   "cell_type": "code",
   "execution_count": null,
   "id": "282f771c-93f4-407d-ab16-7d809a824608",
   "metadata": {},
   "outputs": [],
   "source": [
    "word = input(\"Enter a word: \")\n",
    "\n",
    "reversed_word = word[::-1]\n",
    "\n",
    "print(\"Reversed word:\", reversed_word)"
   ]
  },
  {
   "cell_type": "markdown",
   "id": "5fe06511",
   "metadata": {},
   "source": [
    "# Q7\n",
    "Write a Python program that accepts a word from the user and reverses it."
   ]
  },
  {
   "cell_type": "code",
   "execution_count": null,
   "id": "ae726330-2b47-40f9-ab95-4e2394f4f851",
   "metadata": {},
   "outputs": [],
   "source": [
    "word = input(\"Enter a word: \")\n",
    "\n",
    "reversed_word = word[::-1]\n",
    "\n",
    "print(\"Reversed word:\", reversed_word)"
   ]
  },
  {
   "cell_type": "markdown",
   "id": "5a99d4b3",
   "metadata": {},
   "source": [
    "# Q8\n",
    "\n",
    "`lst = [3,4,5,4,7,8,5,8,3,6,8,9,11]`\n",
    "\n",
    "Write a Python program to count the number of even and odd numbers in the above list of numbers.\n",
    "\n",
    "**Expected output should be in this format**\n",
    "\n",
    "{\"Even\" : num_of_even, \"Odd\": num_of_odd}"
   ]
  },
  {
   "cell_type": "code",
   "execution_count": null,
   "id": "3c7f29dd-a24d-4fa6-a315-615a3603a3e7",
   "metadata": {},
   "outputs": [],
   "source": [
    "lst = [3, 4, 5, 4, 7, 8, 5, 8, 3, 6, 8, 9, 11]\n",
    "\n",
    "num_of_even = 0\n",
    "num_of_odd = 0\n",
    "\n",
    "for num in lst:\n",
    "    if num % 2 == 0:\n",
    "        num_of_even += 1\n",
    "    else:\n",
    "        num_of_odd += 1\n",
    "\n",
    "result = {\"Even\": num_of_even, \"Odd\": num_of_odd}\n",
    "\n",
    "print(result)\n"
   ]
  },
  {
   "cell_type": "markdown",
   "id": "c92b54f9",
   "metadata": {},
   "source": [
    "# Q9\n",
    " Write a Python program that iterates the integers from 1 to 50. For multiples of three print \"Fizz\" instead of the number and for multiples of five print \"Buzz\". For numbers that are multiples of three and five, print \"FizzBuzz\".\n",
    "Sample Output :\n",
    "1\n",
    "\n",
    "2\n",
    "\n",
    "fizz\n",
    "\n",
    "4\n",
    "\n",
    "buzz"
   ]
  },
  {
   "cell_type": "code",
   "execution_count": null,
   "id": "66c90718-ef99-45e9-b24c-27deedd1f96c",
   "metadata": {},
   "outputs": [],
   "source": [
    "for num in range(1, 51):\n",
    "    if num % 3 == 0 and num % 5 == 0:\n",
    "        print(\"FizzBuzz\")\n",
    "    elif num % 3 == 0:\n",
    "        print(\"Fizz\")\n",
    "    elif num % 5 == 0:\n",
    "        print(\"Buzz\")\n",
    "    else:\n",
    "        print(num)"
   ]
  },
  {
   "cell_type": "markdown",
   "id": "8d3505cf",
   "metadata": {},
   "source": [
    "# Q10\n",
    " Write a Python program to find the median of three values inputs from the user"
   ]
  },
  {
   "cell_type": "code",
   "execution_count": null,
   "id": "030cca29-eda8-43ba-85ff-9823985a06f3",
   "metadata": {},
   "outputs": [],
   "source": [
    "num1 = float(input(\"Enter the first number: \"))\n",
    "num2 = float(input(\"Enter the second number: \"))\n",
    "num3 = float(input(\"Enter the third number: \"))\n",
    "\n",
    "if num1 <= num2 <= num3 or num3 <= num2 <= num1:\n",
    "    median = num2\n",
    "elif num2 <= num1 <= num3 or num3 <= num1 <= num2:\n",
    "    median = num1\n",
    "else:\n",
    "    median = num3\n",
    "\n",
    "print(\"Median:\", median)\n"
   ]
  },
  {
   "cell_type": "markdown",
   "id": "9ef4f8a2",
   "metadata": {},
   "source": [
    "# Q11\n",
    "Write a Python program to calculate the sum and average of n integer numbers (input from the user). Input 0 to finish."
   ]
  },
  {
   "cell_type": "code",
   "execution_count": null,
   "id": "1e8d600e-10a9-4fc3-8616-e98c6ce9b837",
   "metadata": {},
   "outputs": [],
   "source": [
    "total_sum = 0\n",
    "count = 0\n",
    "numbers = []\n",
    "\n",
    "while True:\n",
    "    num = int(input(\"Enter an integer number (enter 0 to finish): \"))\n",
    "    \n",
    "    if num == 0:\n",
    "        break\n",
    "    \n",
    "    numbers.append(num)\n",
    "    total_sum += num\n",
    "    count += 1\n",
    "\n",
    "if count == 0:\n",
    "    average = 0\n",
    "else:\n",
    "    average = total_sum / count\n",
    "\n",
    "print(\"Sum:\", total_sum)\n",
    "print(\"Average:\", average)\n"
   ]
  },
  {
   "cell_type": "markdown",
   "id": "45f5c335",
   "metadata": {},
   "source": [
    "# Q12\n",
    " Write a Python program to create the multiplication table (from 1 to 12) of a number input from a user.\n",
    " \n",
    " Expected Output:\n",
    "\n",
    "Input a number: 6                                                       \n",
    "6 x 1 = 6                                                               \n",
    "6 x 2 = 12                                                              \n",
    "6 x 3 = 18                                                              \n",
    "6 x 4 = 24                                                              \n",
    "6 x 5 = 30                                                              \n",
    "6 x 6 = 36                                                              \n",
    "6 x 7 = 42                                                              \n",
    "6 x 8 = 48                                                              \n",
    "6 x 9 = 54                                                              \n",
    "6 x 10 = 60 \n",
    "\n",
    "6 x 11 = 66\n",
    "\n",
    "6 x 12 = 72"
   ]
  },
  {
   "cell_type": "code",
   "execution_count": null,
   "id": "608f30d8-9dd2-481e-98ad-e0365a29532e",
   "metadata": {},
   "outputs": [],
   "source": [
    "number = int(input(\"Input a number: \"))\n",
    "\n",
    "for i in range(1, 13):\n",
    "    result = number * i\n",
    "    print(f\"{number} x {i} = {result}\")\n"
   ]
  },
  {
   "cell_type": "markdown",
   "id": "8cc97048",
   "metadata": {},
   "source": [
    "# Q13\n",
    "Write a Python program to construct the following pattern\n",
    "\n",
    "1\n",
    "\n",
    "22\n",
    "\n",
    "333\n",
    "\n",
    "4444\n",
    "\n",
    "55555\n",
    "\n",
    "666666\n",
    "\n",
    "7777777\n",
    "\n",
    "88888888\n",
    "\n",
    "999999999"
   ]
  },
  {
   "cell_type": "code",
   "execution_count": null,
   "id": "a867a02c-178d-401d-a1c4-15f6a84c28c3",
   "metadata": {},
   "outputs": [],
   "source": [
    "for i in range(1, 10):\n",
    "    for j in range(i):\n",
    "        print(i, end='')\n",
    "    print()"
   ]
  },
  {
   "cell_type": "markdown",
   "id": "adef967a",
   "metadata": {},
   "source": [
    "# Q14\n",
    "Print sum of all odd numbers from 10 to 50"
   ]
  },
  {
   "cell_type": "code",
   "execution_count": null,
   "id": "6d9b0b65-95c0-4a29-8e4e-dab2da696257",
   "metadata": {},
   "outputs": [],
   "source": [
    "sum_odd = 0\n",
    "\n",
    "for num in range(10, 51):\n",
    "    if num % 2 != 0:\n",
    "        sum_odd += num\n",
    "\n",
    "print(\"Sum of odd numbers from 10 to 50:\", sum_odd)\n"
   ]
  },
  {
   "cell_type": "markdown",
   "id": "1642ec1a",
   "metadata": {},
   "source": [
    "# Q15\n",
    "\n",
    "`my_list = [25, 100, 121, 400, 81]`\n",
    "\n",
    "Write the code to display the list of the square root of each number in my list\n",
    "\n",
    "- Without using list comprehension\n",
    "- Using list comprehension"
   ]
  },
  {
   "cell_type": "code",
   "execution_count": null,
   "id": "070c00ee-e141-4f52-9389-54427079e508",
   "metadata": {},
   "outputs": [],
   "source": [
    "# Without using list comprehension\n",
    "import math\n",
    "\n",
    "my_list = [25, 100, 121, 400, 81]\n",
    "\n",
    "sqrt_list = []\n",
    "\n",
    "for num in my_list:\n",
    "    sqrt = math.sqrt(num)\n",
    "    sqrt_list.append(sqrt)\n",
    "\n",
    "print(sqrt_list)\n",
    "\n",
    "\n"
   ]
  },
  {
   "cell_type": "code",
   "execution_count": null,
   "id": "be3f0615",
   "metadata": {},
   "outputs": [],
   "source": [
    "# Using list comprehension\n",
    "import math\n",
    "\n",
    "my_list = [25, 100, 121, 400, 81]\n",
    "\n",
    "sqrt_list = [math.sqrt(num) for num in my_list]\n",
    "\n",
    "print(sqrt_list)\n"
   ]
  }
 ],
 "metadata": {
  "kernelspec": {
   "display_name": "Python 3 (ipykernel)",
   "language": "python",
   "name": "python3"
  },
  "language_info": {
   "codemirror_mode": {
    "name": "ipython",
    "version": 3
   },
   "file_extension": ".py",
   "mimetype": "text/x-python",
   "name": "python",
   "nbconvert_exporter": "python",
   "pygments_lexer": "ipython3",
   "version": "3.11.7"
  }
 },
 "nbformat": 4,
 "nbformat_minor": 5
}
