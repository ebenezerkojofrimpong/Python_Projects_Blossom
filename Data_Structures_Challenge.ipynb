{
 "cells": [
  {
   "cell_type": "markdown",
   "id": "3c2e90df",
   "metadata": {
    "jp-MarkdownHeadingCollapsed": true
   },
   "source": [
    "### Q1\n",
    "\n",
    "Name the four built-in data structures in python. Give one examples for each\n",
    "- list = [1,2,3,4,5]\n",
    "- tuple = ((\"Ama\", \"Akosua\", \"Abigail\"))\n",
    "- set = {1,2,3,4,5}\n",
    "- dictionary = {\"Name\":\"Joycelyn\", \"salary\": 2000000, \"hobby\": \"fishing\"}"
   ]
  },
  {
   "cell_type": "markdown",
   "id": "b6e1dd1b",
   "metadata": {},
   "source": [
    "### Q2\n",
    "\n",
    "State two differences between a list and a tuple in Python.\n",
    "- A list is mutable but a tuple is not\n",
    "- A list uses square brackets \"[]\" whiles tuples use round brackets \"()\""
   ]
  },
  {
   "cell_type": "markdown",
   "id": "815b4e67",
   "metadata": {},
   "source": [
    "### Q3\n",
    "Make a list containing names of five animals with a variable name `animal_list`\n",
    "\n",
    "Write a code for the following:\n",
    "- Print the first two animals\n",
    "- Print the last two animals\n",
    "- Add three extra animals to the variable `animal_list`\n",
    "- Remove the first two animals from the variable `animal_list`\n",
    "- How many animals are in the `animal_list`?\n",
    "- Create a variable animal_set which stores the set of animal_list \n",
    "- How many elements are in the animal_set?\n"
   ]
  },
  {
   "cell_type": "code",
   "execution_count": 38,
   "id": "1997e3be-2d54-4743-90f0-25518e12e499",
   "metadata": {},
   "outputs": [
    {
     "name": "stdout",
     "output_type": "stream",
     "text": [
      "['cobra', 'eagle']\n",
      "['dog', 'cat']\n",
      "['cobra', 'eagle', 'grasscutter', 'dog', 'cat', 'python', 'crab', 'snail']\n",
      "['grasscutter', 'dog', 'cat', 'python', 'crab', 'snail']\n",
      "6\n",
      "{'dog', 'snail', 'crab', 'python', 'grasscutter', 'cat'}\n",
      "6\n"
     ]
    }
   ],
   "source": [
    "animal_list = [\"cobra\", \"eagle\", \"grasscutter\", \"dog\", \"cat\"]\n",
    "\n",
    "#printing first two animals\n",
    "animal_list_first_two = animal_list[0:2]\n",
    "print(animal_list_first_two)\n",
    "\n",
    "#printing last two animals\n",
    "animal_list_last_two = animal_list[3:]\n",
    "print(animal_list_last_two)\n",
    "\n",
    "#adding extra animals\n",
    "animal_list.extend((\"python\", \"crab\", \"snail\"))\n",
    "print(animal_list)\n",
    "\n",
    "#Removing the first two animals\n",
    "del animal_list[:2]\n",
    "print(animal_list)\n",
    "\n",
    "#number of elements\n",
    "animal_list_len = len(animal_list)\n",
    "print(animal_list_len)\n",
    "\n",
    "#Creating a variable animal_set\n",
    "animal_set = set(animal_list)\n",
    "print(animal_set)\n",
    "\n",
    "#Number of elements in animal_set\n",
    "animal_set_len = len(animal_set)\n",
    "print(animal_set_len)\n"
   ]
  },
  {
   "cell_type": "markdown",
   "id": "113c9970",
   "metadata": {},
   "source": [
    "### Q4\n",
    "\n",
    "Given a list:\n",
    "\n",
    "suitcase = [\"sunglasses\", \"hat\", \"passport\", \"laptop\", \"suit\", \"shoes\"]\n",
    "\n",
    "a. Create a list called first containing only the two first items from suitcase.\n",
    "\n",
    "b. Create a list called middle containing only the two middle items from suitcase.\n",
    "\n",
    "c. Create a list called last made up only of the last two items from suitcase."
   ]
  },
  {
   "cell_type": "code",
   "execution_count": 42,
   "id": "b5ca3f91-4821-43ee-8187-ff9303884775",
   "metadata": {},
   "outputs": [
    {
     "name": "stdout",
     "output_type": "stream",
     "text": [
      "['sunglasses', 'hat']\n",
      "['passport', 'laptop']\n",
      "['suit', 'shoes']\n"
     ]
    }
   ],
   "source": [
    "suitcase = [\"sunglasses\", \"hat\", \"passport\", \"laptop\", \"suit\", \"shoes\"]\n",
    "\n",
    "first = suitcase[0:2]\n",
    "print(first)\n",
    "\n",
    "middle = suitcase[2:4]\n",
    "print(middle)\n",
    "\n",
    "last = suitcase[4:]\n",
    "print(last)"
   ]
  },
  {
   "cell_type": "markdown",
   "id": "711ba044",
   "metadata": {},
   "source": [
    "### Q5\n",
    "Write a python code to insert 35 into the list below. Make sure it is inserted in the right position to maintain the order of the data.\n",
    "\n",
    "`values = [20,25,30,40,45,50,55,60,65,70]`"
   ]
  },
  {
   "cell_type": "code",
   "execution_count": 44,
   "id": "7293c2eb-95a6-43b9-afeb-f44d19f3c862",
   "metadata": {},
   "outputs": [
    {
     "name": "stdout",
     "output_type": "stream",
     "text": [
      "[20, 25, 30, 35, 40, 45, 50, 55, 60, 65, 70]\n"
     ]
    }
   ],
   "source": [
    "values = [20,25,30,40,45,50,55,60,65,70]\n",
    "\n",
    "values.insert(3,35)\n",
    "print(values)"
   ]
  },
  {
   "cell_type": "markdown",
   "id": "f535cf64",
   "metadata": {},
   "source": [
    "### Q6\n",
    "\n",
    "Given that Python lists and Python tuples are quite similar – when might you prefer to use a tuple over a list?\n",
    "- When we are declaring a constant value, a tuple will be prefered over a list"
   ]
  },
  {
   "cell_type": "markdown",
   "id": "346927f6",
   "metadata": {},
   "source": [
    "### Q7\n",
    "Create a dictionary with 5 Ghana regions and their capitals and store it in the variable `region_capital`\n",
    "\n",
    "- Print out the keys of region_capital\n",
    "- Print out the values of region_capital\n"
   ]
  },
  {
   "cell_type": "code",
   "execution_count": 49,
   "id": "93c19421-56a1-40ff-983f-f0af83ea92bd",
   "metadata": {},
   "outputs": [
    {
     "name": "stdout",
     "output_type": "stream",
     "text": [
      "dict_keys(['greater_accra', 'central', 'ashanti', 'western', 'eastern'])\n",
      "dict_values(['Accra', 'Cape coast', 'Kumasi', 'Takoradi', 'Koforidua'])\n",
      "{'greater_accra': 'Accra', 'central': 'Cape coast', 'ashanti': 'Kumasi', 'western': 'Takoradi', 'eastern': 'Koforidua'}\n"
     ]
    }
   ],
   "source": [
    "region_capital = {\"greater_accra\": \"Accra\", \"central\": \"Cape coast\", \"ashanti\": \"Kumasi\", \"western\": \"Takoradi\", \"eastern\": \"Koforidua\"}\n",
    "\n",
    "#Printing out the keys of region_capital\n",
    "region_capital_keys = region_capital.keys()\n",
    "print(region_capital_keys)\n",
    "\n",
    "#Printing out the values of region_capital\n",
    "region_capital_values = region_capital.values()\n",
    "print(region_capital_values)\n"
   ]
  },
  {
   "cell_type": "markdown",
   "id": "70526b3b",
   "metadata": {},
   "source": [
    "### Q8\n",
    "\n",
    "`values = [3,4,5,6,3,4,3,5,2,4,2,5,6,1,6]`\n",
    "\n",
    "Using the codes above answer the following questions:\n",
    "- What is the total number of elements in values?\n",
    "- What is the highest occuring number in the values variable?\n",
    "- Convert values into a set and store it into a variable named `values_set`\n",
    "- How many elements are in the variable values_set?\n"
   ]
  },
  {
   "cell_type": "code",
   "execution_count": 60,
   "id": "91bdbd98-dfcd-4679-b334-05871bb6aeb1",
   "metadata": {},
   "outputs": [
    {
     "name": "stdout",
     "output_type": "stream",
     "text": [
      "3\n"
     ]
    }
   ],
   "source": [
    "values = [3, 4, 5, 6, 3, 4, 3, 5, 2, 4, 2, 5, 6, 1, 6]\n",
    "\n",
    "def most_occuring_number(lst):\n",
    "    return max(set(lst), key=lst.count)\n",
    "\n",
    "print(most_occuring_number(values))\n",
    "\n"
   ]
  },
  {
   "cell_type": "markdown",
   "id": "801d5876",
   "metadata": {},
   "source": [
    "### Q9\n",
    "Write a Python script to print a dictionary where the keys are numbers between 1 and 15 (both included) and the values are the square of the keys."
   ]
  },
  {
   "cell_type": "code",
   "execution_count": 64,
   "id": "3420f251-90db-4429-b20e-cc5fd289f0c5",
   "metadata": {},
   "outputs": [
    {
     "name": "stdout",
     "output_type": "stream",
     "text": [
      "{1: 1, 2: 4, 3: 9, 4: 16, 5: 25, 6: 36, 7: 49, 8: 64, 9: 81, 10: 100, 11: 121, 12: 144, 13: 169, 14: 196, 15: 225}\n"
     ]
    }
   ],
   "source": [
    "# Initialize an empty dictionary to store the squares\n",
    "squares_dict = {}\n",
    "\n",
    "# Populate the dictionary with keys and their squares\n",
    "for num in range(1, 16):\n",
    "    squares_dict[num] = num ** 2\n",
    "\n",
    "# Print the dictionary\n",
    "print(squares_dict)\n"
   ]
  },
  {
   "cell_type": "markdown",
   "id": "18954e57",
   "metadata": {},
   "source": [
    "### Q10\n",
    "Write a Python program to create a dictionary of keys x, y, and z where each key has as value a list from 11-20, 21-30, and 31-40 respectively. Access the fifth value of each key from the dictionary."
   ]
  },
  {
   "cell_type": "code",
   "execution_count": 75,
   "id": "2400b10a-c597-409e-b518-70e42dbc0f8b",
   "metadata": {},
   "outputs": [
    {
     "name": "stdout",
     "output_type": "stream",
     "text": [
      "15\n",
      "25\n",
      "35\n"
     ]
    }
   ],
   "source": [
    "dict_range = {\"x\": [11,12,13,14,15,16,17,18,19,20], \"y\": [21,22,23,24,25,26,27,28,29,30], \"z\": [31,32,33,34,35,36,37,38,39,40]}\n",
    "\n",
    "x_fifth_value = dict_range[\"x\"][4]\n",
    "print(x_fifth_value)\n",
    "\n",
    "y_fifth_value = dict_range[\"y\"][4]\n",
    "print(y_fifth_value)\n",
    "\n",
    "z_fifth_value = dict_range[\"z\"][4]\n",
    "print(z_fifth_value)"
   ]
  }
 ],
 "metadata": {
  "kernelspec": {
   "display_name": "Python 3 (ipykernel)",
   "language": "python",
   "name": "python3"
  },
  "language_info": {
   "codemirror_mode": {
    "name": "ipython",
    "version": 3
   },
   "file_extension": ".py",
   "mimetype": "text/x-python",
   "name": "python",
   "nbconvert_exporter": "python",
   "pygments_lexer": "ipython3",
   "version": "3.11.7"
  }
 },
 "nbformat": 4,
 "nbformat_minor": 5
}
